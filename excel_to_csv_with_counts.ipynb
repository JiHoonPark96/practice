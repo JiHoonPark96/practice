{
 "cells": [
  {
   "cell_type": "code",
   "execution_count": 4,
   "id": "e3de4535",
   "metadata": {},
   "outputs": [
    {
     "name": "stdout",
     "output_type": "stream",
     "text": [
      "Done: C:\\Users\\starw\\OneDrive\\바탕 화면\\dta_to_csv\\North America (balance sheet)_with_Global_with_counts.csv\n",
      "Done: C:\\Users\\starw\\OneDrive\\바탕 화면\\dta_to_csv\\North America (cash flow statement)_with_Global_with_counts.csv\n",
      "Done: C:\\Users\\starw\\OneDrive\\바탕 화면\\dta_to_csv\\North America (income statement)_with_Global_with_counts.csv\n"
     ]
    }
   ],
   "source": [
    "import pandas as pd\n",
    "import os\n",
    "\n",
    "# List of CSV file paths to process\n",
    "file_paths = [\n",
    "    r\"C:\\Users\\starw\\OneDrive\\바탕 화면\\dta_to_csv\\North America (balance sheet)_with_Global.csv\",\n",
    "    r\"C:\\Users\\starw\\OneDrive\\바탕 화면\\dta_to_csv\\North America (cash flow statement)_with_Global.csv\",\n",
    "    r\"C:\\Users\\starw\\OneDrive\\바탕 화면\\dta_to_csv\\North America (income statement)_with_Global.csv\"\n",
    "]\n",
    "\n",
    "# Columns to exclude from the counting process\n",
    "exclude_cols = {\"gykey\", \"fyear\", \"indfmt\", \"consol\", \"popsrc\", \"datafmt\", \"curcd\"}\n",
    "\n",
    "def count_leading_digits(row, exclude=exclude_cols):\n",
    "    \"\"\"\n",
    "    Count how many values in the row (excluding certain columns)\n",
    "    start with digits 1–9. Values like 0.xxx are excluded.\n",
    "    \"\"\"\n",
    "    counts = {str(i): 0 for i in range(1, 10)}  # initialize counters for 1–9\n",
    "    \n",
    "    for col, val in row.items():\n",
    "        if col in exclude:  # skip excluded columns\n",
    "            continue\n",
    "        try:\n",
    "            num = float(val)\n",
    "            # Skip values between -1 and 1 (e.g., 0.546)\n",
    "            if abs(num) < 1:\n",
    "                continue\n",
    "            # Get the first digit (ignore minus sign for negatives)\n",
    "            first_digit = str(val).lstrip(\"-\")[0]\n",
    "            if first_digit in counts:\n",
    "                counts[first_digit] += 1\n",
    "        except:\n",
    "            # Ignore non-numeric values\n",
    "            continue\n",
    "    \n",
    "    return [counts[str(i)] for i in range(1, 10)]\n",
    "\n",
    "for path in file_paths:\n",
    "    df = pd.read_csv(path)\n",
    "    \n",
    "    # Apply counting function row by row\n",
    "    counts = df.apply(lambda row: count_leading_digits(row), axis=1, result_type='expand')\n",
    "    counts.columns = [f\"count_{i}_bs\" for i in range(1, 10)]\n",
    "    \n",
    "    # Concatenate new columns to the right side of the dataframe\n",
    "    df = pd.concat([df, counts], axis=1)\n",
    "    \n",
    "    # Save to a new CSV file (append \"_with_counts\" to the original filename)\n",
    "    base, ext = os.path.splitext(path)\n",
    "    new_path = base + \"_with_counts\" + ext\n",
    "    df.to_csv(new_path, index=False, encoding=\"utf-8-sig\")\n",
    "    print(f\"Done: {new_path}\")\n"
   ]
  }
 ],
 "metadata": {
  "kernelspec": {
   "display_name": "Python 3",
   "language": "python",
   "name": "python3"
  },
  "language_info": {
   "codemirror_mode": {
    "name": "ipython",
    "version": 3
   },
   "file_extension": ".py",
   "mimetype": "text/x-python",
   "name": "python",
   "nbconvert_exporter": "python",
   "pygments_lexer": "ipython3",
   "version": "3.9.13"
  }
 },
 "nbformat": 4,
 "nbformat_minor": 5
}
