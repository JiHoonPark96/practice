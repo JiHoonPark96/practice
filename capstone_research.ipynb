{
  "nbformat": 4,
  "nbformat_minor": 0,
  "metadata": {
    "colab": {
      "provenance": [],
      "authorship_tag": "ABX9TyM5gMa5RnlKEi7P9ODzfkH3",
      "include_colab_link": true
    },
    "kernelspec": {
      "name": "python3",
      "display_name": "Python 3"
    },
    "language_info": {
      "name": "python"
    }
  },
  "cells": [
    {
      "cell_type": "markdown",
      "metadata": {
        "id": "view-in-github",
        "colab_type": "text"
      },
      "source": [
        "<a href=\"https://colab.research.google.com/github/JiHoonPark96/practice/blob/main/capstone_research.ipynb\" target=\"_parent\"><img src=\"https://colab.research.google.com/assets/colab-badge.svg\" alt=\"Open In Colab\"/></a>"
      ]
    },
    {
      "cell_type": "code",
      "execution_count": 4,
      "metadata": {
        "colab": {
          "base_uri": "https://localhost:8080/"
        },
        "id": "gGeSNCwJP1Oz",
        "outputId": "2eca2996-a81b-4519-ace9-6f39212a3241"
      },
      "outputs": [
        {
          "output_type": "stream",
          "name": "stdout",
          "text": [
            "Requirement already satisfied: pandas in /usr/local/lib/python3.10/dist-packages (2.2.2)\n",
            "Requirement already satisfied: numpy in /usr/local/lib/python3.10/dist-packages (1.26.4)\n",
            "Requirement already satisfied: matplotlib in /usr/local/lib/python3.10/dist-packages (3.7.1)\n",
            "Requirement already satisfied: seaborn in /usr/local/lib/python3.10/dist-packages (0.13.2)\n",
            "Requirement already satisfied: python-dateutil>=2.8.2 in /usr/local/lib/python3.10/dist-packages (from pandas) (2.8.2)\n",
            "Requirement already satisfied: pytz>=2020.1 in /usr/local/lib/python3.10/dist-packages (from pandas) (2024.2)\n",
            "Requirement already satisfied: tzdata>=2022.7 in /usr/local/lib/python3.10/dist-packages (from pandas) (2024.2)\n",
            "Requirement already satisfied: contourpy>=1.0.1 in /usr/local/lib/python3.10/dist-packages (from matplotlib) (1.3.0)\n",
            "Requirement already satisfied: cycler>=0.10 in /usr/local/lib/python3.10/dist-packages (from matplotlib) (0.12.1)\n",
            "Requirement already satisfied: fonttools>=4.22.0 in /usr/local/lib/python3.10/dist-packages (from matplotlib) (4.54.1)\n",
            "Requirement already satisfied: kiwisolver>=1.0.1 in /usr/local/lib/python3.10/dist-packages (from matplotlib) (1.4.7)\n",
            "Requirement already satisfied: packaging>=20.0 in /usr/local/lib/python3.10/dist-packages (from matplotlib) (24.1)\n",
            "Requirement already satisfied: pillow>=6.2.0 in /usr/local/lib/python3.10/dist-packages (from matplotlib) (10.4.0)\n",
            "Requirement already satisfied: pyparsing>=2.3.1 in /usr/local/lib/python3.10/dist-packages (from matplotlib) (3.2.0)\n",
            "Requirement already satisfied: six>=1.5 in /usr/local/lib/python3.10/dist-packages (from python-dateutil>=2.8.2->pandas) (1.16.0)\n"
          ]
        }
      ],
      "source": [
        "# 라이브러리 설치\n",
        "!pip install pandas numpy matplotlib seaborn\n"
      ]
    },
    {
      "cell_type": "code",
      "source": [
        "# GCT 파일 및 메타데이터 파일 다운로드\n",
        "!wget -O GTEx_Analysis_V4_RNA-seq_RNA-SeQCv1.1.8_gene_rpkm.gct.gz \"https://storage.googleapis.com/adult-gtex/bulk-gex/v4/rna-seq/GTEx_Analysis_V4_RNA-seq_RNA-SeQCv1.1.8_gene_rpkm.gct.gz\"\n",
        "!wget -O GTEx_Data_V4_Annotations_SampleAttributesDS.txt \"https://storage.googleapis.com/adult-gtex/annotations/v4/metadata-files/GTEx_Data_V4_Annotations_SampleAttributesDS.txt\"\n"
      ],
      "metadata": {
        "colab": {
          "base_uri": "https://localhost:8080/"
        },
        "id": "dlNcbOTlP2wL",
        "outputId": "e70b0f33-ae6e-42a3-ae36-c57fdb05bb4f"
      },
      "execution_count": 5,
      "outputs": [
        {
          "output_type": "stream",
          "name": "stdout",
          "text": [
            "--2024-10-30 02:43:56--  https://storage.googleapis.com/adult-gtex/bulk-gex/v4/rna-seq/GTEx_Analysis_V4_RNA-seq_RNA-SeQCv1.1.8_gene_rpkm.gct.gz\n",
            "Resolving storage.googleapis.com (storage.googleapis.com)... 142.250.101.207, 142.251.2.207, 142.250.141.207, ...\n",
            "Connecting to storage.googleapis.com (storage.googleapis.com)|142.250.101.207|:443... connected.\n",
            "HTTP request sent, awaiting response... 200 OK\n",
            "Length: 669838794 (639M) [application/gzip]\n",
            "Saving to: ‘GTEx_Analysis_V4_RNA-seq_RNA-SeQCv1.1.8_gene_rpkm.gct.gz’\n",
            "\n",
            "GTEx_Analysis_V4_RN 100%[===================>] 638.81M  72.8MB/s    in 8.9s    \n",
            "\n",
            "2024-10-30 02:44:06 (71.5 MB/s) - ‘GTEx_Analysis_V4_RNA-seq_RNA-SeQCv1.1.8_gene_rpkm.gct.gz’ saved [669838794/669838794]\n",
            "\n",
            "--2024-10-30 02:44:06--  https://storage.googleapis.com/adult-gtex/annotations/v4/metadata-files/GTEx_Data_V4_Annotations_SampleAttributesDS.txt\n",
            "Resolving storage.googleapis.com (storage.googleapis.com)... 142.250.101.207, 142.251.2.207, 142.250.141.207, ...\n",
            "Connecting to storage.googleapis.com (storage.googleapis.com)|142.250.101.207|:443... connected.\n",
            "HTTP request sent, awaiting response... 200 OK\n",
            "Length: 2281905 (2.2M) [text/plain]\n",
            "Saving to: ‘GTEx_Data_V4_Annotations_SampleAttributesDS.txt’\n",
            "\n",
            "GTEx_Data_V4_Annota 100%[===================>]   2.18M  6.77MB/s    in 0.3s    \n",
            "\n",
            "2024-10-30 02:44:06 (6.77 MB/s) - ‘GTEx_Data_V4_Annotations_SampleAttributesDS.txt’ saved [2281905/2281905]\n",
            "\n"
          ]
        }
      ]
    },
    {
      "cell_type": "code",
      "source": [
        "import pandas as pd\n",
        "import gzip\n",
        "\n",
        "# 압축 해제 후 .gct 파일 불러오기\n",
        "with gzip.open('GTEx_Analysis_V4_RNA-seq_RNA-SeQCv1.1.8_gene_rpkm.gct.gz', 'rt') as f:\n",
        "    data = pd.read_csv(f, sep='\\t', skiprows=2)\n",
        "\n",
        "# 데이터 확인\n",
        "print(data.head())\n"
      ],
      "metadata": {
        "colab": {
          "base_uri": "https://localhost:8080/"
        },
        "id": "Eho1G6RGP5Ol",
        "outputId": "55830279-6754-4f4e-a72f-0b230ccf6d70"
      },
      "execution_count": 6,
      "outputs": [
        {
          "output_type": "stream",
          "name": "stdout",
          "text": [
            "                Name Description  GTEX-N7MS-0007-SM-2D7W1  \\\n",
            "0  ENSG00000223972.4     DDX11L1                  0.00000   \n",
            "1  ENSG00000227232.4      WASH7P                  2.95098   \n",
            "2  ENSG00000243485.2  MIR1302-11                  0.00000   \n",
            "3  ENSG00000237613.2     FAM138A                  0.00000   \n",
            "4  ENSG00000268020.2      OR4G4P                  0.00000   \n",
            "\n",
            "   GTEX-N7MS-0008-SM-4E3JI  GTEX-N7MS-0011-R10A-SM-2HMJK  \\\n",
            "0                 0.000000                      0.000000   \n",
            "1                 1.536591                      1.963210   \n",
            "2                 0.000000                      0.059102   \n",
            "3                 0.000000                      0.000000   \n",
            "4                 0.000000                      0.000000   \n",
            "\n",
            "   GTEX-N7MS-0011-R11A-SM-2HMJS  GTEX-N7MS-0011-R1a-SM-2HMJG  \\\n",
            "0                      0.000000                     0.000000   \n",
            "1                      5.779140                     1.706777   \n",
            "2                      0.032699                     0.000000   \n",
            "3                      0.000000                     0.000000   \n",
            "4                      0.000000                     0.000000   \n",
            "\n",
            "   GTEX-N7MS-0011-R2a-SM-2HML6  GTEX-N7MS-0011-R3a-SM-33HC6  \\\n",
            "0                     0.000000                     0.029064   \n",
            "1                     2.431941                     3.955117   \n",
            "2                     0.069976                     0.056192   \n",
            "3                     0.000000                     0.000000   \n",
            "4                     0.000000                     0.000000   \n",
            "\n",
            "   GTEX-N7MS-0011-R4a-SM-2HMKW  ...  GTEX-XYKS-1626-SM-4BRUQ  \\\n",
            "0                     0.000000  ...                 0.000000   \n",
            "1                     2.202283  ...                 7.833423   \n",
            "2                     0.022790  ...                 0.035923   \n",
            "3                     0.000000  ...                 0.000000   \n",
            "4                     0.000000  ...                 0.000000   \n",
            "\n",
            "   GTEX-XYKS-1726-SM-4E3IO  GTEX-XYKS-1826-SM-4E3JV  GTEX-XYKS-2126-SM-4E3IB  \\\n",
            "0                 0.000000                 0.000000                 0.000000   \n",
            "1                 9.380618                 4.951715                10.038196   \n",
            "2                 0.017177                 0.017386                 0.107205   \n",
            "3                 0.000000                 0.000000                 0.000000   \n",
            "4                 0.037039                 0.000000                 0.000000   \n",
            "\n",
            "   GTEX-XYKS-2226-SM-4E3IU  GTEX-XYKS-2426-SM-4AT43  GTEX-XYKS-2526-SM-4BOPX  \\\n",
            "0                  0.00000                 0.000000                 0.000000   \n",
            "1                  9.17151                 4.339119                 8.869831   \n",
            "2                  0.00000                 0.000000                 0.000000   \n",
            "3                  0.00000                 0.000000                 0.000000   \n",
            "4                  0.00000                 0.000000                 0.000000   \n",
            "\n",
            "   GTEX-XYKS-2626-SM-4BRUT  GTEX-XYKS-2726-SM-4E3IC  GTEX-Y8E5-0006-SM-47JWQ  \n",
            "0                 0.000000                 0.000000                 0.000000  \n",
            "1                 5.068189                 6.129316                 4.622728  \n",
            "2                 0.000000                 0.000000                 0.000000  \n",
            "3                 0.000000                 0.000000                 0.000000  \n",
            "4                 0.000000                 0.000000                 0.000000  \n",
            "\n",
            "[5 rows x 2923 columns]\n"
          ]
        }
      ]
    },
    {
      "cell_type": "code",
      "source": [
        "# Load libraries\n",
        "import pandas as pd\n",
        "import numpy as np\n",
        "import matplotlib.pyplot as plt\n",
        "import seaborn as sns\n",
        "\n",
        "# Load data\n",
        "gct_file_path = '/content/GTEx_Analysis_V4_RNA-seq_RNA-SeQCv1.1.8_gene_rpkm.gct.gz'\n",
        "metadata_path = '/content/GTEx_Data_V4_Annotations_SampleAttributesDS.txt'\n",
        "\n",
        "# Skip the first two rows and read the GCT file\n",
        "data = pd.read_csv(gct_file_path, sep='\\t', skiprows=2)\n",
        "metadata = pd.read_csv(metadata_path, sep='\\t')\n"
      ],
      "metadata": {
        "id": "KO5ATyuHSBmj"
      },
      "execution_count": 8,
      "outputs": []
    },
    {
      "cell_type": "code",
      "source": [
        "# Basic information of GCT data\n",
        "print(\"GCT Data Basic Information\")\n",
        "print(data.info())\n",
        "print(\"\\nSample of GCT Data\")\n",
        "print(data.head())\n",
        "\n",
        "# Basic information of Metadata\n",
        "print(\"\\nMetadata Basic Information\")\n",
        "print(metadata.info())\n",
        "print(\"\\nSample of Metadata\")\n",
        "print(metadata.head())\n"
      ],
      "metadata": {
        "colab": {
          "base_uri": "https://localhost:8080/"
        },
        "id": "KkF0nxXtSCMG",
        "outputId": "1c1491ce-2104-41f6-d853-f6063829e372"
      },
      "execution_count": 9,
      "outputs": [
        {
          "output_type": "stream",
          "name": "stdout",
          "text": [
            "GCT Data Basic Information\n",
            "<class 'pandas.core.frame.DataFrame'>\n",
            "RangeIndex: 55993 entries, 0 to 55992\n",
            "Columns: 2923 entries, Name to GTEX-Y8E5-0006-SM-47JWQ\n",
            "dtypes: float64(2921), object(2)\n",
            "memory usage: 1.2+ GB\n",
            "None\n",
            "\n",
            "Sample of GCT Data\n",
            "                Name Description  GTEX-N7MS-0007-SM-2D7W1  \\\n",
            "0  ENSG00000223972.4     DDX11L1                  0.00000   \n",
            "1  ENSG00000227232.4      WASH7P                  2.95098   \n",
            "2  ENSG00000243485.2  MIR1302-11                  0.00000   \n",
            "3  ENSG00000237613.2     FAM138A                  0.00000   \n",
            "4  ENSG00000268020.2      OR4G4P                  0.00000   \n",
            "\n",
            "   GTEX-N7MS-0008-SM-4E3JI  GTEX-N7MS-0011-R10A-SM-2HMJK  \\\n",
            "0                 0.000000                      0.000000   \n",
            "1                 1.536591                      1.963210   \n",
            "2                 0.000000                      0.059102   \n",
            "3                 0.000000                      0.000000   \n",
            "4                 0.000000                      0.000000   \n",
            "\n",
            "   GTEX-N7MS-0011-R11A-SM-2HMJS  GTEX-N7MS-0011-R1a-SM-2HMJG  \\\n",
            "0                      0.000000                     0.000000   \n",
            "1                      5.779140                     1.706777   \n",
            "2                      0.032699                     0.000000   \n",
            "3                      0.000000                     0.000000   \n",
            "4                      0.000000                     0.000000   \n",
            "\n",
            "   GTEX-N7MS-0011-R2a-SM-2HML6  GTEX-N7MS-0011-R3a-SM-33HC6  \\\n",
            "0                     0.000000                     0.029064   \n",
            "1                     2.431941                     3.955117   \n",
            "2                     0.069976                     0.056192   \n",
            "3                     0.000000                     0.000000   \n",
            "4                     0.000000                     0.000000   \n",
            "\n",
            "   GTEX-N7MS-0011-R4a-SM-2HMKW  ...  GTEX-XYKS-1626-SM-4BRUQ  \\\n",
            "0                     0.000000  ...                 0.000000   \n",
            "1                     2.202283  ...                 7.833423   \n",
            "2                     0.022790  ...                 0.035923   \n",
            "3                     0.000000  ...                 0.000000   \n",
            "4                     0.000000  ...                 0.000000   \n",
            "\n",
            "   GTEX-XYKS-1726-SM-4E3IO  GTEX-XYKS-1826-SM-4E3JV  GTEX-XYKS-2126-SM-4E3IB  \\\n",
            "0                 0.000000                 0.000000                 0.000000   \n",
            "1                 9.380618                 4.951715                10.038196   \n",
            "2                 0.017177                 0.017386                 0.107205   \n",
            "3                 0.000000                 0.000000                 0.000000   \n",
            "4                 0.037039                 0.000000                 0.000000   \n",
            "\n",
            "   GTEX-XYKS-2226-SM-4E3IU  GTEX-XYKS-2426-SM-4AT43  GTEX-XYKS-2526-SM-4BOPX  \\\n",
            "0                  0.00000                 0.000000                 0.000000   \n",
            "1                  9.17151                 4.339119                 8.869831   \n",
            "2                  0.00000                 0.000000                 0.000000   \n",
            "3                  0.00000                 0.000000                 0.000000   \n",
            "4                  0.00000                 0.000000                 0.000000   \n",
            "\n",
            "   GTEX-XYKS-2626-SM-4BRUT  GTEX-XYKS-2726-SM-4E3IC  GTEX-Y8E5-0006-SM-47JWQ  \n",
            "0                 0.000000                 0.000000                 0.000000  \n",
            "1                 5.068189                 6.129316                 4.622728  \n",
            "2                 0.000000                 0.000000                 0.000000  \n",
            "3                 0.000000                 0.000000                 0.000000  \n",
            "4                 0.000000                 0.000000                 0.000000  \n",
            "\n",
            "[5 rows x 2923 columns]\n",
            "\n",
            "Metadata Basic Information\n",
            "<class 'pandas.core.frame.DataFrame'>\n",
            "RangeIndex: 4501 entries, 0 to 4500\n",
            "Data columns (total 59 columns):\n",
            " #   Column     Non-Null Count  Dtype  \n",
            "---  ------     --------------  -----  \n",
            " 0   SAMPID     4501 non-null   object \n",
            " 1   SMATSSCR   3043 non-null   float64\n",
            " 2   SMCENTER   4436 non-null   object \n",
            " 3   SMPTHNTS   3043 non-null   object \n",
            " 4   SMRIN      4120 non-null   float64\n",
            " 5   SMTS       4499 non-null   object \n",
            " 6   SMTSD      4499 non-null   object \n",
            " 7   SMTSISCH   3893 non-null   object \n",
            " 8   SMNABTCH   4499 non-null   object \n",
            " 9   SMNABTCHT  4501 non-null   object \n",
            " 10  SMNABTCHD  4499 non-null   object \n",
            " 11  SMGEBTCH   4478 non-null   object \n",
            " 12  SMGEBTCHD  4478 non-null   object \n",
            " 13  SMGEBTCHT  4501 non-null   object \n",
            " 14  SME2MPRT   3260 non-null   float64\n",
            " 15  SMCHMPRS   3260 non-null   float64\n",
            " 16  SMNTRART   3260 non-null   float64\n",
            " 17  SMNUMGPS   3260 non-null   float64\n",
            " 18  SMMAPRT    3260 non-null   float64\n",
            " 19  SMEXNCRT   3260 non-null   float64\n",
            " 20  SM550NRM   3260 non-null   float64\n",
            " 21  SMGNSDTC   3260 non-null   float64\n",
            " 22  SMUNMPRT   3260 non-null   float64\n",
            " 23  SM350NRM   3260 non-null   float64\n",
            " 24  SMRDLGTH   3260 non-null   float64\n",
            " 25  SMMNCPB    3260 non-null   float64\n",
            " 26  SME1MMRT   3260 non-null   float64\n",
            " 27  SMSFLGTH   3260 non-null   float64\n",
            " 28  SMESTLBS   3260 non-null   float64\n",
            " 29  SMMPPD     3260 non-null   float64\n",
            " 30  SMNTERRT   3260 non-null   float64\n",
            " 31  SMRRNANM   3260 non-null   float64\n",
            " 32  SMRDTTL    3260 non-null   float64\n",
            " 33  SMVQCFL    3260 non-null   float64\n",
            " 34  SMMNCV     3260 non-null   float64\n",
            " 35  SMTRSCPT   3260 non-null   float64\n",
            " 36  SMMPPDPR   3260 non-null   float64\n",
            " 37  SMCGLGTH   3260 non-null   float64\n",
            " 38  SMGAPPCT   3260 non-null   float64\n",
            " 39  SMUNPDRD   3260 non-null   float64\n",
            " 40  SMNTRNRT   3260 non-null   float64\n",
            " 41  SMMPUNRT   3260 non-null   float64\n",
            " 42  SMEXPEFF   3260 non-null   float64\n",
            " 43  SMMPPDUN   3260 non-null   float64\n",
            " 44  SME2MMRT   3260 non-null   float64\n",
            " 45  SME2ANTI   3260 non-null   float64\n",
            " 46  SMALTALG   3260 non-null   float64\n",
            " 47  SME2SNSE   3260 non-null   float64\n",
            " 48  SMMFLGTH   3260 non-null   float64\n",
            " 49  SME1ANTI   3260 non-null   float64\n",
            " 50  SMSPLTRD   3260 non-null   float64\n",
            " 51  SMBSMMRT   3260 non-null   float64\n",
            " 52  SME1SNSE   3260 non-null   float64\n",
            " 53  SME1PCTS   3260 non-null   float64\n",
            " 54  SMRRNART   3260 non-null   float64\n",
            " 55  SME1MPRT   3260 non-null   float64\n",
            " 56  SMNUM5CD   3260 non-null   float64\n",
            " 57  SMDPMPRT   3260 non-null   float64\n",
            " 58  SME2PCTS   3260 non-null   float64\n",
            "dtypes: float64(47), object(12)\n",
            "memory usage: 2.0+ MB\n",
            "None\n",
            "\n",
            "Sample of Metadata\n",
            "                    SAMPID  SMATSSCR SMCENTER SMPTHNTS  SMRIN   SMTS  \\\n",
            "0  GTEX-N7MS-0007-SM-26GME       NaN       C1      NaN    8.2  Blood   \n",
            "1  GTEX-N7MS-0007-SM-26GMV       NaN       C1      NaN    8.2  Blood   \n",
            "2  GTEX-N7MS-0007-SM-2D43E       NaN       C1      NaN    8.2  Blood   \n",
            "3  GTEX-N7MS-0007-SM-2D7W1       NaN       C1      NaN    8.2  Blood   \n",
            "4  GTEX-N7MS-0008-SM-4E3JI       NaN       C1      NaN   10.0   Skin   \n",
            "\n",
            "                             SMTSD     SMTSISCH  SMNABTCH  \\\n",
            "0                      Whole Blood  16-19 hours  BP-16653   \n",
            "1                      Whole Blood  16-19 hours  BP-16653   \n",
            "2                      Whole Blood  16-19 hours  BP-16653   \n",
            "3                      Whole Blood  16-19 hours  BP-16653   \n",
            "4  Cells - Transformed fibroblasts          NaN  BP-37581   \n",
            "\n",
            "                                   SMNABTCHT  ...    SME1ANTI    SMSPLTRD  \\\n",
            "0   RNA isolation_PAXgene Blood RNA (Manual)  ...         NaN         NaN   \n",
            "1   RNA isolation_PAXgene Blood RNA (Manual)  ...         NaN         NaN   \n",
            "2   RNA isolation_PAXgene Blood RNA (Manual)  ...         NaN         NaN   \n",
            "3   RNA isolation_PAXgene Blood RNA (Manual)  ...  13705136.0  18432744.0   \n",
            "4  RNA isolation_Trizol Manual (Cell Pellet)  ...  17962165.0  20910366.0   \n",
            "\n",
            "   SMBSMMRT    SME1SNSE   SME1PCTS  SMRRNART  SME1MPRT  SMNUM5CD  SMDPMPRT  \\\n",
            "0       NaN         NaN        NaN       NaN       NaN       NaN       NaN   \n",
            "1       NaN         NaN        NaN       NaN       NaN       NaN       NaN   \n",
            "2       NaN         NaN        NaN       NaN       NaN       NaN       NaN   \n",
            "3  0.002456  13447728.0  49.526005  0.041526  0.835199     840.0  0.563503   \n",
            "4  0.004087  18012435.0  50.069874  0.028395  0.948329     879.0  0.226835   \n",
            "\n",
            "    SME2PCTS  \n",
            "0        NaN  \n",
            "1        NaN  \n",
            "2        NaN  \n",
            "3  51.361324  \n",
            "4  50.270794  \n",
            "\n",
            "[5 rows x 59 columns]\n"
          ]
        }
      ]
    },
    {
      "cell_type": "code",
      "source": [
        "# Checking for missing values\n",
        "print(\"\\nChecking Missing Values in GCT Data\")\n",
        "print(data.isnull().sum())\n",
        "\n",
        "print(\"\\nChecking Missing Values in Metadata\")\n",
        "print(metadata.isnull().sum())\n"
      ],
      "metadata": {
        "colab": {
          "base_uri": "https://localhost:8080/"
        },
        "id": "quhqayGUSEpA",
        "outputId": "07cc7245-f170-4fe0-9390-6eedff508d68"
      },
      "execution_count": 10,
      "outputs": [
        {
          "output_type": "stream",
          "name": "stdout",
          "text": [
            "\n",
            "Checking Missing Values in GCT Data\n",
            "Name                            0\n",
            "Description                     0\n",
            "GTEX-N7MS-0007-SM-2D7W1         0\n",
            "GTEX-N7MS-0008-SM-4E3JI         0\n",
            "GTEX-N7MS-0011-R10A-SM-2HMJK    0\n",
            "                               ..\n",
            "GTEX-XYKS-2426-SM-4AT43         0\n",
            "GTEX-XYKS-2526-SM-4BOPX         0\n",
            "GTEX-XYKS-2626-SM-4BRUT         0\n",
            "GTEX-XYKS-2726-SM-4E3IC         0\n",
            "GTEX-Y8E5-0006-SM-47JWQ         0\n",
            "Length: 2923, dtype: int64\n",
            "\n",
            "Checking Missing Values in Metadata\n",
            "SAMPID          0\n",
            "SMATSSCR     1458\n",
            "SMCENTER       65\n",
            "SMPTHNTS     1458\n",
            "SMRIN         381\n",
            "SMTS            2\n",
            "SMTSD           2\n",
            "SMTSISCH      608\n",
            "SMNABTCH        2\n",
            "SMNABTCHT       0\n",
            "SMNABTCHD       2\n",
            "SMGEBTCH       23\n",
            "SMGEBTCHD      23\n",
            "SMGEBTCHT       0\n",
            "SME2MPRT     1241\n",
            "SMCHMPRS     1241\n",
            "SMNTRART     1241\n",
            "SMNUMGPS     1241\n",
            "SMMAPRT      1241\n",
            "SMEXNCRT     1241\n",
            "SM550NRM     1241\n",
            "SMGNSDTC     1241\n",
            "SMUNMPRT     1241\n",
            "SM350NRM     1241\n",
            "SMRDLGTH     1241\n",
            "SMMNCPB      1241\n",
            "SME1MMRT     1241\n",
            "SMSFLGTH     1241\n",
            "SMESTLBS     1241\n",
            "SMMPPD       1241\n",
            "SMNTERRT     1241\n",
            "SMRRNANM     1241\n",
            "SMRDTTL      1241\n",
            "SMVQCFL      1241\n",
            "SMMNCV       1241\n",
            "SMTRSCPT     1241\n",
            "SMMPPDPR     1241\n",
            "SMCGLGTH     1241\n",
            "SMGAPPCT     1241\n",
            "SMUNPDRD     1241\n",
            "SMNTRNRT     1241\n",
            "SMMPUNRT     1241\n",
            "SMEXPEFF     1241\n",
            "SMMPPDUN     1241\n",
            "SME2MMRT     1241\n",
            "SME2ANTI     1241\n",
            "SMALTALG     1241\n",
            "SME2SNSE     1241\n",
            "SMMFLGTH     1241\n",
            "SME1ANTI     1241\n",
            "SMSPLTRD     1241\n",
            "SMBSMMRT     1241\n",
            "SME1SNSE     1241\n",
            "SME1PCTS     1241\n",
            "SMRRNART     1241\n",
            "SME1MPRT     1241\n",
            "SMNUM5CD     1241\n",
            "SMDPMPRT     1241\n",
            "SME2PCTS     1241\n",
            "dtype: int64\n"
          ]
        }
      ]
    },
    {
      "cell_type": "code",
      "source": [
        "# Distribution of gene expression values\n",
        "plt.figure(figsize=(10, 6))\n",
        "sns.histplot(data.iloc[:, 2:].values.flatten(), bins=50, kde=True)\n",
        "plt.title(\"Distribution of Gene Expression Values\")\n",
        "plt.xlabel(\"Gene Expression (RPKM)\")\n",
        "plt.ylabel(\"Frequency\")\n",
        "plt.show()\n"
      ],
      "metadata": {
        "colab": {
          "base_uri": "https://localhost:8080/",
          "height": 219
        },
        "id": "pJsXHI-oSGOY",
        "outputId": "99c0fd91-30a3-4eae-a373-f2e6bad54810"
      },
      "execution_count": 1,
      "outputs": [
        {
          "output_type": "error",
          "ename": "NameError",
          "evalue": "name 'plt' is not defined",
          "traceback": [
            "\u001b[0;31m---------------------------------------------------------------------------\u001b[0m",
            "\u001b[0;31mNameError\u001b[0m                                 Traceback (most recent call last)",
            "\u001b[0;32m<ipython-input-1-c50aa75bc879>\u001b[0m in \u001b[0;36m<cell line: 2>\u001b[0;34m()\u001b[0m\n\u001b[1;32m      1\u001b[0m \u001b[0;31m# Distribution of gene expression values\u001b[0m\u001b[0;34m\u001b[0m\u001b[0;34m\u001b[0m\u001b[0m\n\u001b[0;32m----> 2\u001b[0;31m \u001b[0mplt\u001b[0m\u001b[0;34m.\u001b[0m\u001b[0mfigure\u001b[0m\u001b[0;34m(\u001b[0m\u001b[0mfigsize\u001b[0m\u001b[0;34m=\u001b[0m\u001b[0;34m(\u001b[0m\u001b[0;36m10\u001b[0m\u001b[0;34m,\u001b[0m \u001b[0;36m6\u001b[0m\u001b[0;34m)\u001b[0m\u001b[0;34m)\u001b[0m\u001b[0;34m\u001b[0m\u001b[0;34m\u001b[0m\u001b[0m\n\u001b[0m\u001b[1;32m      3\u001b[0m \u001b[0msns\u001b[0m\u001b[0;34m.\u001b[0m\u001b[0mhistplot\u001b[0m\u001b[0;34m(\u001b[0m\u001b[0mdata\u001b[0m\u001b[0;34m.\u001b[0m\u001b[0miloc\u001b[0m\u001b[0;34m[\u001b[0m\u001b[0;34m:\u001b[0m\u001b[0;34m,\u001b[0m \u001b[0;36m2\u001b[0m\u001b[0;34m:\u001b[0m\u001b[0;34m]\u001b[0m\u001b[0;34m.\u001b[0m\u001b[0mvalues\u001b[0m\u001b[0;34m.\u001b[0m\u001b[0mflatten\u001b[0m\u001b[0;34m(\u001b[0m\u001b[0;34m)\u001b[0m\u001b[0;34m,\u001b[0m \u001b[0mbins\u001b[0m\u001b[0;34m=\u001b[0m\u001b[0;36m50\u001b[0m\u001b[0;34m,\u001b[0m \u001b[0mkde\u001b[0m\u001b[0;34m=\u001b[0m\u001b[0;32mTrue\u001b[0m\u001b[0;34m)\u001b[0m\u001b[0;34m\u001b[0m\u001b[0;34m\u001b[0m\u001b[0m\n\u001b[1;32m      4\u001b[0m \u001b[0mplt\u001b[0m\u001b[0;34m.\u001b[0m\u001b[0mtitle\u001b[0m\u001b[0;34m(\u001b[0m\u001b[0;34m\"Distribution of Gene Expression Values\"\u001b[0m\u001b[0;34m)\u001b[0m\u001b[0;34m\u001b[0m\u001b[0;34m\u001b[0m\u001b[0m\n\u001b[1;32m      5\u001b[0m \u001b[0mplt\u001b[0m\u001b[0;34m.\u001b[0m\u001b[0mxlabel\u001b[0m\u001b[0;34m(\u001b[0m\u001b[0;34m\"Gene Expression (RPKM)\"\u001b[0m\u001b[0;34m)\u001b[0m\u001b[0;34m\u001b[0m\u001b[0;34m\u001b[0m\u001b[0m\n",
            "\u001b[0;31mNameError\u001b[0m: name 'plt' is not defined"
          ]
        }
      ]
    },
    {
      "cell_type": "code",
      "source": [
        "# Mean, median, and standard deviation for each sample\n",
        "sample_stats = data.iloc[:, 2:].describe().T[['mean', '50%', 'std']]\n",
        "sample_stats.columns = ['Mean Expression', 'Median Expression', 'Std Dev']\n",
        "print(\"\\nGene Expression Statistics per Sample\")\n",
        "print(sample_stats.head())\n"
      ],
      "metadata": {
        "id": "CyYRQ8E9SHtt"
      },
      "execution_count": null,
      "outputs": []
    },
    {
      "cell_type": "code",
      "source": [
        "# Select only 'SMTS' (tissue type) and 'SAMPID' (sample ID) from metadata for merging\n",
        "metadata = metadata[['SAMPID', 'SMTS']].set_index('SAMPID')\n",
        "sample_data = data.set_index('Name').iloc[:, 2:].T  # Transpose to make samples rows and genes columns\n",
        "sample_data.index.name = 'SampleID'\n",
        "\n",
        "# Merge with metadata to add tissue information and calculate average expression by tissue\n",
        "sample_data = sample_data.join(metadata)\n",
        "sample_data_grouped = sample_data.groupby('SMTS').mean()  # Average expression by tissue\n",
        "\n",
        "# Heatmap of expression patterns by tissue type\n",
        "plt.figure(figsize=(12, 8))\n",
        "sns.heatmap(sample_data_grouped.T, cmap='viridis', cbar_kws={'label': 'Average Gene Expression'})\n",
        "plt.title(\"Average Gene Expression Patterns by Tissue (Heatmap)\")\n",
        "plt.xlabel(\"Tissue Type\")\n",
        "plt.ylabel(\"Gene\")\n",
        "plt.show()\n"
      ],
      "metadata": {
        "id": "7Ws6oo7_SNA6"
      },
      "execution_count": null,
      "outputs": []
    },
    {
      "cell_type": "code",
      "source": [
        "# Find the top 10 genes with the highest average expression\n",
        "top_genes = data.set_index('Name').iloc[:, 2:].mean(axis=1).nlargest(10).index\n",
        "top_gene_data = data[data['Name'].isin(top_genes)].set_index('Name').iloc[:, 2:]\n",
        "\n",
        "# Visualize the expression patterns of the top 10 genes\n",
        "plt.figure(figsize=(12, 8))\n",
        "sns.heatmap(top_gene_data, cmap='coolwarm', cbar_kws={'label': 'Gene Expression'})\n",
        "plt.title(\"Expression Patterns of Top 10 Genes\")\n",
        "plt.xlabel(\"Sample\")\n",
        "plt.ylabel(\"Gene\")\n",
        "plt.show()\n"
      ],
      "metadata": {
        "id": "cdRRBrGtSNgO"
      },
      "execution_count": null,
      "outputs": []
    },
    {
      "cell_type": "code",
      "source": [
        "# Correlation heatmap of gene expression by tissue type\n",
        "plt.figure(figsize=(12, 10))\n",
        "sns.heatmap(sample_data_grouped.corr(), annot=True, cmap='coolwarm', cbar_kws={'label': 'Correlation'})\n",
        "plt.title(\"Correlation of Gene Expression by Tissue Type\")\n",
        "plt.xlabel(\"Tissue Type\")\n",
        "plt.ylabel(\"Tissue Type\")\n",
        "plt.show()\n"
      ],
      "metadata": {
        "id": "q1j8BXuqSOvf"
      },
      "execution_count": null,
      "outputs": []
    }
  ]
}