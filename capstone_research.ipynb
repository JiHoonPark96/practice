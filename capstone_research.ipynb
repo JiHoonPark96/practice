{
  "nbformat": 4,
  "nbformat_minor": 0,
  "metadata": {
    "colab": {
      "provenance": [],
      "authorship_tag": "ABX9TyOrvVtHtyB/ABoa5Hwgr10G",
      "include_colab_link": true
    },
    "kernelspec": {
      "name": "python3",
      "display_name": "Python 3"
    },
    "language_info": {
      "name": "python"
    }
  },
  "cells": [
    {
      "cell_type": "markdown",
      "metadata": {
        "id": "view-in-github",
        "colab_type": "text"
      },
      "source": [
        "<a href=\"https://colab.research.google.com/github/JiHoonPark96/practice/blob/main/capstone_research.ipynb\" target=\"_parent\"><img src=\"https://colab.research.google.com/assets/colab-badge.svg\" alt=\"Open In Colab\"/></a>"
      ]
    },
    {
      "cell_type": "code",
      "execution_count": 1,
      "metadata": {
        "colab": {
          "base_uri": "https://localhost:8080/"
        },
        "id": "gGeSNCwJP1Oz",
        "outputId": "3ee128d7-a964-4bea-8428-d5eff5086b27"
      },
      "outputs": [
        {
          "output_type": "stream",
          "name": "stdout",
          "text": [
            "Requirement already satisfied: pandas in /usr/local/lib/python3.10/dist-packages (2.2.2)\n",
            "Requirement already satisfied: numpy in /usr/local/lib/python3.10/dist-packages (1.26.4)\n",
            "Requirement already satisfied: matplotlib in /usr/local/lib/python3.10/dist-packages (3.8.0)\n",
            "Requirement already satisfied: seaborn in /usr/local/lib/python3.10/dist-packages (0.13.2)\n",
            "Requirement already satisfied: python-dateutil>=2.8.2 in /usr/local/lib/python3.10/dist-packages (from pandas) (2.8.2)\n",
            "Requirement already satisfied: pytz>=2020.1 in /usr/local/lib/python3.10/dist-packages (from pandas) (2024.2)\n",
            "Requirement already satisfied: tzdata>=2022.7 in /usr/local/lib/python3.10/dist-packages (from pandas) (2024.2)\n",
            "Requirement already satisfied: contourpy>=1.0.1 in /usr/local/lib/python3.10/dist-packages (from matplotlib) (1.3.1)\n",
            "Requirement already satisfied: cycler>=0.10 in /usr/local/lib/python3.10/dist-packages (from matplotlib) (0.12.1)\n",
            "Requirement already satisfied: fonttools>=4.22.0 in /usr/local/lib/python3.10/dist-packages (from matplotlib) (4.55.3)\n",
            "Requirement already satisfied: kiwisolver>=1.0.1 in /usr/local/lib/python3.10/dist-packages (from matplotlib) (1.4.7)\n",
            "Requirement already satisfied: packaging>=20.0 in /usr/local/lib/python3.10/dist-packages (from matplotlib) (24.2)\n",
            "Requirement already satisfied: pillow>=6.2.0 in /usr/local/lib/python3.10/dist-packages (from matplotlib) (11.0.0)\n",
            "Requirement already satisfied: pyparsing>=2.3.1 in /usr/local/lib/python3.10/dist-packages (from matplotlib) (3.2.0)\n",
            "Requirement already satisfied: six>=1.5 in /usr/local/lib/python3.10/dist-packages (from python-dateutil>=2.8.2->pandas) (1.17.0)\n"
          ]
        }
      ],
      "source": [
        "# 라이브러리 설치\n",
        "!pip install pandas numpy matplotlib seaborn\n"
      ]
    },
    {
      "cell_type": "code",
      "source": [
        "# GCT 파일 및 메타데이터 파일 다운로드\n",
        "!wget -O GTEx_Analysis_V4_RNA-seq_RNA-SeQCv1.1.8_gene_rpkm.gct.gz \"https://storage.googleapis.com/adult-gtex/bulk-gex/v4/rna-seq/GTEx_Analysis_V4_RNA-seq_RNA-SeQCv1.1.8_gene_rpkm.gct.gz\"\n",
        "!wget -O GTEx_Data_V4_Annotations_SampleAttributesDS.txt \"https://storage.googleapis.com/adult-gtex/annotations/v4/metadata-files/GTEx_Data_V4_Annotations_SampleAttributesDS.txt\"\n"
      ],
      "metadata": {
        "colab": {
          "base_uri": "https://localhost:8080/"
        },
        "id": "dlNcbOTlP2wL",
        "outputId": "dcf60e65-8754-407e-c1d3-1a382474d0eb"
      },
      "execution_count": 2,
      "outputs": [
        {
          "output_type": "stream",
          "name": "stdout",
          "text": [
            "--2024-12-16 20:00:19--  https://storage.googleapis.com/adult-gtex/bulk-gex/v4/rna-seq/GTEx_Analysis_V4_RNA-seq_RNA-SeQCv1.1.8_gene_rpkm.gct.gz\n",
            "Resolving storage.googleapis.com (storage.googleapis.com)... 142.250.98.207, 74.125.134.207, 142.251.107.207, ...\n",
            "Connecting to storage.googleapis.com (storage.googleapis.com)|142.250.98.207|:443... connected.\n",
            "HTTP request sent, awaiting response... 200 OK\n",
            "Length: 669838794 (639M) [application/gzip]\n",
            "Saving to: ‘GTEx_Analysis_V4_RNA-seq_RNA-SeQCv1.1.8_gene_rpkm.gct.gz’\n",
            "\n",
            "GTEx_Analysis_V4_RN 100%[===================>] 638.81M  56.9MB/s    in 10s     \n",
            "\n",
            "2024-12-16 20:00:30 (61.1 MB/s) - ‘GTEx_Analysis_V4_RNA-seq_RNA-SeQCv1.1.8_gene_rpkm.gct.gz’ saved [669838794/669838794]\n",
            "\n",
            "--2024-12-16 20:00:30--  https://storage.googleapis.com/adult-gtex/annotations/v4/metadata-files/GTEx_Data_V4_Annotations_SampleAttributesDS.txt\n",
            "Resolving storage.googleapis.com (storage.googleapis.com)... 142.250.98.207, 74.125.134.207, 142.251.107.207, ...\n",
            "Connecting to storage.googleapis.com (storage.googleapis.com)|142.250.98.207|:443... connected.\n",
            "HTTP request sent, awaiting response... 200 OK\n",
            "Length: 2281905 (2.2M) [text/plain]\n",
            "Saving to: ‘GTEx_Data_V4_Annotations_SampleAttributesDS.txt’\n",
            "\n",
            "GTEx_Data_V4_Annota 100%[===================>]   2.18M  9.39MB/s    in 0.2s    \n",
            "\n",
            "2024-12-16 20:00:30 (9.39 MB/s) - ‘GTEx_Data_V4_Annotations_SampleAttributesDS.txt’ saved [2281905/2281905]\n",
            "\n"
          ]
        }
      ]
    },
    {
      "source": [
        "import pandas as pd\n",
        "import numpy as np\n",
        "\n",
        "# Define the paths to your data files\n",
        "gct_file_path = 'GTEx_Analysis_V4_RNA-seq_RNA-SeQCv1.1.8_gene_rpkm.gct.gz'\n",
        "metadata_path = 'GTEx_Data_V4_Annotations_SampleAttributesDS.txt'\n",
        "\n",
        "# Load data\n",
        "data = pd.read_csv(gct_file_path, sep='\\t', skiprows=2)\n",
        "metadata = pd.read_csv(metadata_path, sep='\\t')\n",
        "\n",
        "# ... (rest of your code) ..."
      ],
      "cell_type": "code",
      "metadata": {
        "id": "R_Ju45nGDzO6"
      },
      "execution_count": 4,
      "outputs": []
    },
    {
      "cell_type": "code",
      "source": [
        "import pandas as pd\n",
        "import gzip\n",
        "\n",
        "# 압축 해제 후 .gct 파일 불러오기\n",
        "with gzip.open('GTEx_Analysis_V4_RNA-seq_RNA-SeQCv1.1.8_gene_rpkm.gct.gz', 'rt') as f:\n",
        "    data = pd.read_csv(f, sep='\\t', skiprows=2)\n",
        "\n",
        "# 데이터 확인\n",
        "print(data.head())\n"
      ],
      "metadata": {
        "colab": {
          "base_uri": "https://localhost:8080/"
        },
        "id": "Eho1G6RGP5Ol",
        "outputId": "9ed2935c-8a7b-4254-f137-75b4851f5083"
      },
      "execution_count": 5,
      "outputs": [
        {
          "output_type": "stream",
          "name": "stdout",
          "text": [
            "                Name Description  GTEX-N7MS-0007-SM-2D7W1  \\\n",
            "0  ENSG00000223972.4     DDX11L1                  0.00000   \n",
            "1  ENSG00000227232.4      WASH7P                  2.95098   \n",
            "2  ENSG00000243485.2  MIR1302-11                  0.00000   \n",
            "3  ENSG00000237613.2     FAM138A                  0.00000   \n",
            "4  ENSG00000268020.2      OR4G4P                  0.00000   \n",
            "\n",
            "   GTEX-N7MS-0008-SM-4E3JI  GTEX-N7MS-0011-R10A-SM-2HMJK  \\\n",
            "0                 0.000000                      0.000000   \n",
            "1                 1.536591                      1.963210   \n",
            "2                 0.000000                      0.059102   \n",
            "3                 0.000000                      0.000000   \n",
            "4                 0.000000                      0.000000   \n",
            "\n",
            "   GTEX-N7MS-0011-R11A-SM-2HMJS  GTEX-N7MS-0011-R1a-SM-2HMJG  \\\n",
            "0                      0.000000                     0.000000   \n",
            "1                      5.779140                     1.706777   \n",
            "2                      0.032699                     0.000000   \n",
            "3                      0.000000                     0.000000   \n",
            "4                      0.000000                     0.000000   \n",
            "\n",
            "   GTEX-N7MS-0011-R2a-SM-2HML6  GTEX-N7MS-0011-R3a-SM-33HC6  \\\n",
            "0                     0.000000                     0.029064   \n",
            "1                     2.431941                     3.955117   \n",
            "2                     0.069976                     0.056192   \n",
            "3                     0.000000                     0.000000   \n",
            "4                     0.000000                     0.000000   \n",
            "\n",
            "   GTEX-N7MS-0011-R4a-SM-2HMKW  ...  GTEX-XYKS-1626-SM-4BRUQ  \\\n",
            "0                     0.000000  ...                 0.000000   \n",
            "1                     2.202283  ...                 7.833423   \n",
            "2                     0.022790  ...                 0.035923   \n",
            "3                     0.000000  ...                 0.000000   \n",
            "4                     0.000000  ...                 0.000000   \n",
            "\n",
            "   GTEX-XYKS-1726-SM-4E3IO  GTEX-XYKS-1826-SM-4E3JV  GTEX-XYKS-2126-SM-4E3IB  \\\n",
            "0                 0.000000                 0.000000                 0.000000   \n",
            "1                 9.380618                 4.951715                10.038196   \n",
            "2                 0.017177                 0.017386                 0.107205   \n",
            "3                 0.000000                 0.000000                 0.000000   \n",
            "4                 0.037039                 0.000000                 0.000000   \n",
            "\n",
            "   GTEX-XYKS-2226-SM-4E3IU  GTEX-XYKS-2426-SM-4AT43  GTEX-XYKS-2526-SM-4BOPX  \\\n",
            "0                  0.00000                 0.000000                 0.000000   \n",
            "1                  9.17151                 4.339119                 8.869831   \n",
            "2                  0.00000                 0.000000                 0.000000   \n",
            "3                  0.00000                 0.000000                 0.000000   \n",
            "4                  0.00000                 0.000000                 0.000000   \n",
            "\n",
            "   GTEX-XYKS-2626-SM-4BRUT  GTEX-XYKS-2726-SM-4E3IC  GTEX-Y8E5-0006-SM-47JWQ  \n",
            "0                 0.000000                 0.000000                 0.000000  \n",
            "1                 5.068189                 6.129316                 4.622728  \n",
            "2                 0.000000                 0.000000                 0.000000  \n",
            "3                 0.000000                 0.000000                 0.000000  \n",
            "4                 0.000000                 0.000000                 0.000000  \n",
            "\n",
            "[5 rows x 2923 columns]\n"
          ]
        }
      ]
    },
    {
      "cell_type": "code",
      "source": [
        "# Load libraries\n",
        "import pandas as pd\n",
        "import numpy as np\n",
        "import matplotlib.pyplot as plt\n",
        "import seaborn as sns\n",
        "\n",
        "# Load data\n",
        "gct_file_path = '/content/GTEx_Analysis_V4_RNA-seq_RNA-SeQCv1.1.8_gene_rpkm.gct.gz'\n",
        "metadata_path = '/content/GTEx_Data_V4_Annotations_SampleAttributesDS.txt'\n",
        "\n",
        "# Skip the first two rows and read the GCT file\n",
        "data = pd.read_csv(gct_file_path, sep='\\t', skiprows=2)\n",
        "metadata = pd.read_csv(metadata_path, sep='\\t')\n"
      ],
      "metadata": {
        "id": "KO5ATyuHSBmj"
      },
      "execution_count": 8,
      "outputs": []
    },
    {
      "source": [
        "import pandas as pd\n",
        "import numpy as np\n",
        "from google.colab import files\n",
        "\n",
        "# Load the data and metadata\n",
        "data = pd.read_csv('GTEx_Analysis_V4_RNA-seq_RNA-SeQCv1.1.8_gene_rpkm.gct.gz', sep='\\t', skiprows=2, index_col=0)  # Set 'Name' as index\n",
        "metadata = pd.read_csv('GTEx_Data_V4_Annotations_SampleAttributesDS.txt', sep='\\t')\n",
        "\n",
        "# 1. Filter out low-expression genes\n",
        "average_expression = data.iloc[:, 1:].mean(axis=1)\n",
        "data = data[average_expression >= 1]\n",
        "\n",
        "# 2. Log-transform the data\n",
        "data.iloc[:, 1:] = np.log2(data.iloc[:, 1:] + 1)\n",
        "\n",
        "# 3. Transpose the data to have samples as rows and genes as columns\n",
        "data = data.T\n",
        "\n",
        "# 4. Reset index to make 'SAMPID' a column\n",
        "data = data.reset_index()\n",
        "\n",
        "# Rename the 'index' column to 'SAMPID'\n",
        "data = data.rename(columns={'index': 'SAMPID'})\n",
        "\n",
        "# 5. Merge with metadata\n",
        "metadata = metadata[['SAMPID', 'SMTS']]\n",
        "merged_data = pd.merge(data, metadata, on='SAMPID')\n",
        "\n",
        "# 6. Handle missing values (if any)\n",
        "# Exclude non-numeric columns from the mean calculation\n",
        "numeric_data = merged_data.select_dtypes(include=np.number)\n",
        "merged_data[numeric_data.columns] = numeric_data.fillna(numeric_data.mean())\n",
        "\n",
        "# Save the preprocessed data to a CSV file\n",
        "merged_data.to_csv('preprocessed_gtex_data.csv', index=False)\n",
        "\n",
        "# Download the CSV file\n",
        "files.download('preprocessed_gtex_data.csv')"
      ],
      "cell_type": "code",
      "metadata": {
        "colab": {
          "base_uri": "https://localhost:8080/",
          "height": 34
        },
        "id": "hBNa1DzuGhf8",
        "outputId": "7327c82d-6f04-4c8b-c347-77778dff5bf4"
      },
      "execution_count": 12,
      "outputs": [
        {
          "output_type": "display_data",
          "data": {
            "text/plain": [
              "<IPython.core.display.Javascript object>"
            ],
            "application/javascript": [
              "\n",
              "    async function download(id, filename, size) {\n",
              "      if (!google.colab.kernel.accessAllowed) {\n",
              "        return;\n",
              "      }\n",
              "      const div = document.createElement('div');\n",
              "      const label = document.createElement('label');\n",
              "      label.textContent = `Downloading \"${filename}\": `;\n",
              "      div.appendChild(label);\n",
              "      const progress = document.createElement('progress');\n",
              "      progress.max = size;\n",
              "      div.appendChild(progress);\n",
              "      document.body.appendChild(div);\n",
              "\n",
              "      const buffers = [];\n",
              "      let downloaded = 0;\n",
              "\n",
              "      const channel = await google.colab.kernel.comms.open(id);\n",
              "      // Send a message to notify the kernel that we're ready.\n",
              "      channel.send({})\n",
              "\n",
              "      for await (const message of channel.messages) {\n",
              "        // Send a message to notify the kernel that we're ready.\n",
              "        channel.send({})\n",
              "        if (message.buffers) {\n",
              "          for (const buffer of message.buffers) {\n",
              "            buffers.push(buffer);\n",
              "            downloaded += buffer.byteLength;\n",
              "            progress.value = downloaded;\n",
              "          }\n",
              "        }\n",
              "      }\n",
              "      const blob = new Blob(buffers, {type: 'application/binary'});\n",
              "      const a = document.createElement('a');\n",
              "      a.href = window.URL.createObjectURL(blob);\n",
              "      a.download = filename;\n",
              "      div.appendChild(a);\n",
              "      a.click();\n",
              "      div.remove();\n",
              "    }\n",
              "  "
            ]
          },
          "metadata": {}
        },
        {
          "output_type": "display_data",
          "data": {
            "text/plain": [
              "<IPython.core.display.Javascript object>"
            ],
            "application/javascript": [
              "download(\"download_c9d8fe19-27f3-4ed1-8e87-d18188253837\", \"preprocessed_gtex_data.csv\", 937881849)"
            ]
          },
          "metadata": {}
        }
      ]
    }
  ]
}