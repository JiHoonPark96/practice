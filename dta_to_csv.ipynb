{
 "cells": [
  {
   "cell_type": "code",
   "execution_count": 1,
   "id": "9c54c736",
   "metadata": {},
   "outputs": [
    {
     "name": "stdout",
     "output_type": "stream",
     "text": [
      "Converted: C:\\Users\\starw\\OneDrive\\바탕 화면\\test1\\Global.dta → C:\\Users\\starw\\Desktop\\dta_to_csv\\Global.csv\n",
      "Converted: C:\\Users\\starw\\OneDrive\\바탕 화면\\test1\\North America (balance sheet).dta → C:\\Users\\starw\\Desktop\\dta_to_csv\\North America (balance sheet).csv\n",
      "Converted: C:\\Users\\starw\\OneDrive\\바탕 화면\\test1\\North America (cash flow statement).dta → C:\\Users\\starw\\Desktop\\dta_to_csv\\North America (cash flow statement).csv\n",
      "Converted: C:\\Users\\starw\\OneDrive\\바탕 화면\\test1\\North America (income statement).dta → C:\\Users\\starw\\Desktop\\dta_to_csv\\North America (income statement).csv\n",
      "✅ All .dta files have been converted and saved in 'dta_to_csv' folder on your Desktop!\n"
     ]
    }
   ],
   "source": [
    "import pandas as pd\n",
    "import os\n",
    "import glob\n",
    "\n",
    "# Folder where .dta files are located (change this path as needed)\n",
    "dta_folder = r\"C:\\Users\\starw\\OneDrive\\바탕 화면\\test1\"\n",
    "\n",
    "# Desktop path\n",
    "desktop = os.path.join(os.path.expanduser(\"~\"), \"Desktop\")\n",
    "\n",
    "# Create a new folder on Desktop called \"dta_to_csv\"\n",
    "output_folder = os.path.join(desktop, \"dta_to_csv\")\n",
    "os.makedirs(output_folder, exist_ok=True)\n",
    "\n",
    "# Find all .dta files in the folder\n",
    "dta_files = glob.glob(os.path.join(dta_folder, \"*.dta\"))\n",
    "\n",
    "# Convert each .dta to .csv\n",
    "for dta_file in dta_files:\n",
    "    try:\n",
    "        # Extract filename without extension\n",
    "        file_name = os.path.splitext(os.path.basename(dta_file))[0]\n",
    "\n",
    "        # Output path for csv\n",
    "        csv_file = os.path.join(output_folder, f\"{file_name}.csv\")\n",
    "\n",
    "        # Read dta file\n",
    "        df = pd.read_stata(dta_file)\n",
    "\n",
    "        # Save as csv\n",
    "        df.to_csv(csv_file, index=False, encoding=\"utf-8-sig\")\n",
    "\n",
    "        print(f\"Converted: {dta_file} → {csv_file}\")\n",
    "    except Exception as e:\n",
    "        print(f\"Error with {dta_file}: {e}\")\n",
    "\n",
    "print(\"✅ All .dta files have been converted and saved in 'dta_to_csv' folder on your Desktop!\")\n"
   ]
  }
 ],
 "metadata": {
  "kernelspec": {
   "display_name": "Python 3",
   "language": "python",
   "name": "python3"
  },
  "language_info": {
   "codemirror_mode": {
    "name": "ipython",
    "version": 3
   },
   "file_extension": ".py",
   "mimetype": "text/x-python",
   "name": "python",
   "nbconvert_exporter": "python",
   "pygments_lexer": "ipython3",
   "version": "3.9.13"
  }
 },
 "nbformat": 4,
 "nbformat_minor": 5
}
