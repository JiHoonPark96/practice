{
 "cells": [
  {
   "cell_type": "code",
   "execution_count": 1,
   "id": "84780d95",
   "metadata": {},
   "outputs": [],
   "source": [
    "import pandas as pd\n",
    "import numpy as np\n",
    "\n",
    "# Load the Stata file\n",
    "df = pd.read_stata(\"C:\\\\Users\\\\starw\\\\OneDrive\\\\바탕 화면\\\\filtered_global_is\\\\BS (combined).dta\")\n",
    "\n",
    "# Function to get first significant digit\n",
    "def get_first_significant_digit(x):\n",
    "    if not pd.isna(x) and isinstance(x, (int, float)):\n",
    "        # Convert to string and remove decimal point, minus sign\n",
    "        str_num = str(abs(x)).replace('.', '')\n",
    "        # Find first non-zero digit\n",
    "        for digit in str_num:\n",
    "            if digit != '0':\n",
    "                return int(digit)\n",
    "    return None\n",
    "\n",
    "# Function to count frequencies for a row\n",
    "def count_first_digits(row):\n",
    "    # Get all numeric values and their first significant digits\n",
    "    first_digits = [get_first_significant_digit(x) for x in row if isinstance(x, (int, float))]\n",
    "    first_digits = [x for x in first_digits if x is not None]\n",
    "    \n",
    "    # Count frequencies\n",
    "    frequencies = [first_digits.count(i) for i in range(1, 10)]\n",
    "    return pd.Series(frequencies, index=[f'frequency{i}' for i in range(1, 10)])\n",
    "\n",
    "# Apply the counting function to each row\n",
    "frequency_df = df.apply(count_first_digits, axis=1)\n",
    "\n",
    "# Combine original DataFrame with frequency columns\n",
    "result_df = pd.concat([df, frequency_df], axis=1)\n",
    "\n",
    "# Save to CSV\n",
    "result_df.to_csv(\"C:\\\\Users\\\\starw\\\\OneDrive\\\\바탕 화면\\\\BS_combined_with_frequencies.csv\", index=False)"
   ]
  },
  {
   "cell_type": "code",
   "execution_count": 2,
   "id": "326f195d",
   "metadata": {},
   "outputs": [],
   "source": [
    "# Load the Stata file (CF instead of BS)\n",
    "df = pd.read_stata(\"C:\\\\Users\\\\starw\\\\OneDrive\\\\바탕 화면\\\\filtered_global_is\\\\CF (combined).dta\")\n",
    "\n",
    "# Apply the counting function to each row\n",
    "frequency_df = df.apply(count_first_digits, axis=1)\n",
    "\n",
    "# Combine original DataFrame with frequency columns\n",
    "result_df = pd.concat([df, frequency_df], axis=1)\n",
    "\n",
    "# Save to CSV\n",
    "result_df.to_csv(\"C:\\\\Users\\\\starw\\\\OneDrive\\\\바탕 화면\\\\CF_combined_with_frequencies.csv\", index=False)"
   ]
  },
  {
   "cell_type": "code",
   "execution_count": 3,
   "id": "ce8dc57d",
   "metadata": {},
   "outputs": [],
   "source": [
    "# Load the Stata file (IS instead of BS and CF)\n",
    "df = pd.read_stata(\"C:\\\\Users\\\\starw\\\\OneDrive\\\\바탕 화면\\\\filtered_global_is\\\\IS (combined).dta\")\n",
    "\n",
    "# Apply the counting function to each row\n",
    "frequency_df = df.apply(count_first_digits, axis=1)\n",
    "\n",
    "# Combine original DataFrame with frequency columns\n",
    "result_df = pd.concat([df, frequency_df], axis=1)\n",
    "\n",
    "# Save to CSV\n",
    "result_df.to_csv(\"C:\\\\Users\\\\starw\\\\OneDrive\\\\바탕 화면\\\\IS_combined_with_frequencies.csv\", index=False)"
   ]
  }
 ],
 "metadata": {
  "kernelspec": {
   "display_name": "Python 3",
   "language": "python",
   "name": "python3"
  },
  "language_info": {
   "codemirror_mode": {
    "name": "ipython",
    "version": 3
   },
   "file_extension": ".py",
   "mimetype": "text/x-python",
   "name": "python",
   "nbconvert_exporter": "python",
   "pygments_lexer": "ipython3",
   "version": "3.9.13"
  }
 },
 "nbformat": 4,
 "nbformat_minor": 5
}
