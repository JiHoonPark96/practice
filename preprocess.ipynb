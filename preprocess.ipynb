{
 "cells": [
  {
   "cell_type": "code",
   "execution_count": 1,
   "id": "46f889c4",
   "metadata": {},
   "outputs": [],
   "source": [
    "import pandas as pd\n",
    "\n",
    "bs_na = pd.read_stata(\"C:\\\\Users\\\\starw\\\\OneDrive\\\\바탕 화면\\\\Compustat (MS)\\\\BS(NA).dta\")\n",
    "global_data = pd.read_stata(\"C:\\\\Users\\\\starw\\\\OneDrive\\\\바탕 화면\\\\Compustat (MS)\\\\global.dta\")"
   ]
  },
  {
   "cell_type": "code",
   "execution_count": 2,
   "id": "d71990ce",
   "metadata": {},
   "outputs": [],
   "source": [
    "# Get the list of columns from bs_na\n",
    "bs_columns = bs_na.columns.tolist()\n",
    "\n",
    "# Filter global_data to keep only columns that exist in bs_na\n",
    "global_filtered = global_data[global_data.columns.intersection(bs_columns)]"
   ]
  },
  {
   "cell_type": "code",
   "execution_count": 3,
   "id": "f2d345b7",
   "metadata": {},
   "outputs": [],
   "source": [
    "global_filtered.to_csv(\"filtered_global.csv\", index=False)"
   ]
  },
  {
   "cell_type": "code",
   "execution_count": 4,
   "id": "fd3a6f1b",
   "metadata": {},
   "outputs": [],
   "source": [
    "# Read the CF(NA) dataset\n",
    "cf_na = pd.read_stata(\"C:\\\\Users\\\\starw\\\\OneDrive\\\\바탕 화면\\\\Compustat (MS)\\\\CF(NA).dta\")\n",
    "\n",
    "# Get the list of columns from cf_na\n",
    "cf_columns = cf_na.columns.tolist()\n",
    "\n",
    "# Filter global_data to keep only columns that exist in cf_na\n",
    "global_filtered_cf = global_data[global_data.columns.intersection(cf_columns)]\n",
    "\n",
    "# Save the filtered dataset to CSV\n",
    "global_filtered_cf.to_csv(\"filtered_global_cf.csv\", index=False)"
   ]
  },
  {
   "cell_type": "code",
   "execution_count": 5,
   "id": "148c9be7",
   "metadata": {},
   "outputs": [],
   "source": [
    "# Read the IS(NA) dataset\n",
    "is_na = pd.read_stata(\"C:\\\\Users\\\\starw\\\\OneDrive\\\\바탕 화면\\\\Compustat (MS)\\\\IS(NA).dta\")\n",
    "\n",
    "# Get the list of columns from is_na\n",
    "is_columns = is_na.columns.tolist()\n",
    "\n",
    "# Filter global_data to keep only columns that exist in is_na\n",
    "global_filtered_is = global_data[global_data.columns.intersection(is_columns)]\n",
    "\n",
    "# Save the filtered dataset to CSV\n",
    "global_filtered_is.to_csv(\"filtered_global_is.csv\", index=False)"
   ]
  },
  {
   "cell_type": "code",
   "execution_count": 6,
   "id": "7fd41b0e",
   "metadata": {},
   "outputs": [],
   "source": [
    "import os\n",
    "import shutil\n",
    "\n",
    "# Define the destination desktop path\n",
    "desktop_path = \"C:\\\\Users\\\\starw\\\\OneDrive\\\\바탕 화면\"\n",
    "\n",
    "# List of files to copy\n",
    "files_to_copy = [\n",
    "    \"filtered_global.csv\",\n",
    "    \"filtered_global_cf.csv\", \n",
    "    \"filtered_global_is.csv\"\n",
    "]\n",
    "\n",
    "# Copy each file to desktop\n",
    "for file in files_to_copy:\n",
    "    source = file  # Current working directory\n",
    "    destination = os.path.join(desktop_path, file)\n",
    "    shutil.copy(source, destination)"
   ]
  }
 ],
 "metadata": {
  "kernelspec": {
   "display_name": "Python 3",
   "language": "python",
   "name": "python3"
  },
  "language_info": {
   "codemirror_mode": {
    "name": "ipython",
    "version": 3
   },
   "file_extension": ".py",
   "mimetype": "text/x-python",
   "name": "python",
   "nbconvert_exporter": "python",
   "pygments_lexer": "ipython3",
   "version": "3.9.13"
  }
 },
 "nbformat": 4,
 "nbformat_minor": 5
}
